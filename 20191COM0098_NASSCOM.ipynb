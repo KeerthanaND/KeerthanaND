{
  "nbformat": 4,
  "nbformat_minor": 0,
  "metadata": {
    "colab": {
      "name": "20191COM0098_NASSCOM",
      "provenance": [],
      "collapsed_sections": []
    },
    "kernelspec": {
      "name": "python3",
      "display_name": "Python 3"
    },
    "language_info": {
      "name": "python"
    }
  },
  "cells": [
    {
      "cell_type": "markdown",
      "metadata": {
        "id": "8uzpD8PXwJYk"
      },
      "source": [
        "**NASSCOM(MINI PROJECT) ASSIGNMENT**\n",
        "\n",
        "**KEERTHANA ND**\n",
        "                                                     \n",
        "                                                        \n",
        "\n",
        "**20191COM0098**\n",
        "\n",
        "**5COM2**\n",
        "\n",
        "                                                     \n"
      ]
    },
    {
      "cell_type": "markdown",
      "metadata": {
        "id": "LFzytt-9ztoE"
      },
      "source": [
        "###**MACHINE LEARNING**\n"
      ]
    },
    {
      "cell_type": "markdown",
      "metadata": {
        "id": "UYT8Nizezy44"
      },
      "source": [
        "**A METHOD OF DATA ANALYSIS THAT AUTOMATES ANALYTICAL MODEL BUILDING.IT'S A TYPE OF ARTIFICIAL INTELLIGENCE THAT ALLOWS SOFTWARE APPLICATIONS TO BECOME MORE ACCURATE AT PREDICTING OUTCOMES WITHOUT BEING EXPLICITLY PROGRAMMED TO DO SO.**"
      ]
    },
    {
      "cell_type": "markdown",
      "metadata": {
        "id": "Z8Vc2xA4xW_e"
      },
      "source": [
        "###**SIMPLE LINEAR REGRESSION**"
      ]
    },
    {
      "cell_type": "markdown",
      "metadata": {
        "id": "q3JQUVlnxnn3"
      },
      "source": [
        "**A REGRESSION MODEL THAT ESTIMATES THE RELATIONSHIP BETWEEN ONE INDEPENDENT VARIABLE AND ONE DEPENDENT VARIABLE USING A STRAIGHT LINE.**\n",
        "\n",
        "**[y =mx+c]**\n",
        "\n",
        "**where both the variables should be quantitative**\n"
      ]
    },
    {
      "cell_type": "markdown",
      "metadata": {
        "id": "fFdcb3SJ0szm"
      },
      "source": [
        "###**DATA SET**\n"
      ]
    },
    {
      "cell_type": "markdown",
      "metadata": {
        "id": "7eMGp1fl0yHe"
      },
      "source": [
        "**IT'S A COLLECTION OF DATA,NUMBERS,OR VALUES THAT RELATE TO A PARTICULAR SUBJECT.**\n",
        "\n",
        "**IT CAN HOLD INFORMATION SUCH AS MEDICAL RECORDS,INSURANCE RECORDS,TO BE USED BY A PROGRAM RUNNING ON THE SYSTEM.\n",
        "DATA SETS ARE ALSO USED TO STORE INFORMATION NEEDED BY APPLICATIONS**"
      ]
    },
    {
      "cell_type": "markdown",
      "metadata": {
        "id": "ZfjbeAJY4YQe"
      },
      "source": [
        "###**DATA VISUALISATION**\n"
      ]
    },
    {
      "cell_type": "markdown",
      "metadata": {
        "id": "UH0xFyU04pb1"
      },
      "source": [
        "**THE PROCESS OF TRANSLATING LARGE DATA SETS AND METRICS INTO CHARTS,GRAPH,AND OTHER VISUALS WHICH IS HELPFUL TO CONDUCT ANALYSES SUCH AS PREDICTIVE ANALYSIS WHICH CAN SERVE AS HELPFUL VISUALISATION TO PRESENT**"
      ]
    },
    {
      "cell_type": "markdown",
      "metadata": {
        "id": "aZ1GP3TU6BoW"
      },
      "source": [
        "###**DATA CLEANING**"
      ]
    },
    {
      "cell_type": "markdown",
      "metadata": {
        "id": "xkv4IAi46Swk"
      },
      "source": [
        "**IS THE PROCESS OF DETECTING AND CORRECTING CORRUPT OR INACCURATE RECORDS FROM A RECORD SET,TABLE,OR DATABASE AND REFERS TO IDENTIFYING INCOMPLETE,INCORRECT,INACCURATE OR IRRELEVANT PARTS OF THE DATA AND THEN REPLACING, MODIFYING OR DELETING UNWANTED OR COARSE DATA.**"
      ]
    },
    {
      "cell_type": "markdown",
      "metadata": {
        "id": "FfwJtYmU7QkE"
      },
      "source": [
        "###**SUPERVISED LEARNING**"
      ]
    },
    {
      "cell_type": "markdown",
      "metadata": {
        "id": "l0mahKeJ7hH0"
      },
      "source": [
        "**THE MACHINE LEARNING TASK OF LEARNING A FUNCTION THAT MAPS AN INPUT TO AN OUTPUT BASED ON EXAMPLE INPUT-OUTPUT PAIRS.\n",
        "THE MODEL IS TRAINED USING 'LABELED DATA'. DATASETS ARE SAID TO CONTAIN LABELS THAT CONTAIN BOTH INPUT AND OUTPUT PARAMETERS. TO SIMPLIFY-' DATA IS ALREAY TAGGED WITH THE CORRECT ANSWER'.**"
      ]
    },
    {
      "cell_type": "markdown",
      "metadata": {
        "id": "s5KCJwgV8ott"
      },
      "source": [
        "###**MODELS**"
      ]
    },
    {
      "cell_type": "markdown",
      "metadata": {
        "id": "83yM9eo_8wxR"
      },
      "source": [
        "**THOSE ARE OUTPUT BY ALGORITHMS AND ARE COMPRISED OF MODEL DATA AND A PREDICTION ALGORITHM.**"
      ]
    },
    {
      "cell_type": "markdown",
      "metadata": {
        "id": "YszBTDr68-Sp"
      },
      "source": [
        "###**TRAINING MODEL**"
      ]
    },
    {
      "cell_type": "markdown",
      "metadata": {
        "id": "N-2zwvyh9HgL"
      },
      "source": [
        "**IN SUPERVISED LEARNING, AN ML ALGORITHM BUILDS A MODEL BY EXAMINING MANY EXAMPLES AND ATTEMPTING TO FIND A MODEL THAT MINIMIZES LOSS AND IMPROVES PREDICTION ACCURACY.**"
      ]
    },
    {
      "cell_type": "markdown",
      "metadata": {
        "id": "wvynlVnc-f6t"
      },
      "source": [
        "###**IMPORTING DATA SET**"
      ]
    },
    {
      "cell_type": "code",
      "metadata": {
        "id": "witin7iIFd07"
      },
      "source": [
        "import pandas as pd\n",
        "import numpy as np\n",
        "import matplotlib.pyplot as plt\n",
        "from sklearn.model_selection import train_test_split\n",
        "from sklearn.linear_model import LinearRegression\n",
        "from sklearn.metrics import r2_score,mean_squared_error\n",
        "%matplotlib inline"
      ],
      "execution_count": null,
      "outputs": []
    },
    {
      "cell_type": "code",
      "metadata": {
        "colab": {
          "base_uri": "https://localhost:8080/",
          "height": 394
        },
        "id": "ehY5Jy3eHby9",
        "outputId": "77ba1e59-f6b8-4f00-a9dd-1960cc4e3cc5"
      },
      "source": [
        "df = pd.read_csv('/content/dataset.csv') # Importing the dataset\n",
        "df.sample(5) #previewing dataset "
      ],
      "execution_count": null,
      "outputs": [
        {
          "output_type": "execute_result",
          "data": {
            "text/html": [
              "<div>\n",
              "<style scoped>\n",
              "    .dataframe tbody tr th:only-of-type {\n",
              "        vertical-align: middle;\n",
              "    }\n",
              "\n",
              "    .dataframe tbody tr th {\n",
              "        vertical-align: top;\n",
              "    }\n",
              "\n",
              "    .dataframe thead th {\n",
              "        text-align: right;\n",
              "    }\n",
              "</style>\n",
              "<table border=\"1\" class=\"dataframe\">\n",
              "  <thead>\n",
              "    <tr style=\"text-align: right;\">\n",
              "      <th></th>\n",
              "      <th>Make</th>\n",
              "      <th>Model</th>\n",
              "      <th>Year</th>\n",
              "      <th>Engine Fuel Type</th>\n",
              "      <th>Engine HP</th>\n",
              "      <th>Engine Cylinders</th>\n",
              "      <th>Transmission Type</th>\n",
              "      <th>Driven_Wheels</th>\n",
              "      <th>Number of Doors</th>\n",
              "      <th>Market Category</th>\n",
              "      <th>Vehicle Size</th>\n",
              "      <th>Vehicle Style</th>\n",
              "      <th>highway MPG</th>\n",
              "      <th>city mpg</th>\n",
              "      <th>Popularity</th>\n",
              "      <th>MSRP</th>\n",
              "    </tr>\n",
              "  </thead>\n",
              "  <tbody>\n",
              "    <tr>\n",
              "      <th>942</th>\n",
              "      <td>Porsche</td>\n",
              "      <td>911</td>\n",
              "      <td>2016</td>\n",
              "      <td>premium unleaded (required)</td>\n",
              "      <td>430.0</td>\n",
              "      <td>6.0</td>\n",
              "      <td>MANUAL</td>\n",
              "      <td>rear wheel drive</td>\n",
              "      <td>2.0</td>\n",
              "      <td>Luxury,High-Performance</td>\n",
              "      <td>Compact</td>\n",
              "      <td>Convertible</td>\n",
              "      <td>25</td>\n",
              "      <td>18</td>\n",
              "      <td>1715</td>\n",
              "      <td>126100</td>\n",
              "    </tr>\n",
              "    <tr>\n",
              "      <th>10967</th>\n",
              "      <td>Toyota</td>\n",
              "      <td>Tundra</td>\n",
              "      <td>2016</td>\n",
              "      <td>regular unleaded</td>\n",
              "      <td>381.0</td>\n",
              "      <td>8.0</td>\n",
              "      <td>AUTOMATIC</td>\n",
              "      <td>four wheel drive</td>\n",
              "      <td>4.0</td>\n",
              "      <td>NaN</td>\n",
              "      <td>Large</td>\n",
              "      <td>Extended Cab Pickup</td>\n",
              "      <td>17</td>\n",
              "      <td>13</td>\n",
              "      <td>2031</td>\n",
              "      <td>34220</td>\n",
              "    </tr>\n",
              "    <tr>\n",
              "      <th>4564</th>\n",
              "      <td>Ford</td>\n",
              "      <td>F-150</td>\n",
              "      <td>2017</td>\n",
              "      <td>regular unleaded</td>\n",
              "      <td>325.0</td>\n",
              "      <td>6.0</td>\n",
              "      <td>AUTOMATIC</td>\n",
              "      <td>four wheel drive</td>\n",
              "      <td>4.0</td>\n",
              "      <td>Flex Fuel</td>\n",
              "      <td>Large</td>\n",
              "      <td>Crew Cab Pickup</td>\n",
              "      <td>23</td>\n",
              "      <td>18</td>\n",
              "      <td>5657</td>\n",
              "      <td>45845</td>\n",
              "    </tr>\n",
              "    <tr>\n",
              "      <th>9937</th>\n",
              "      <td>Chevrolet</td>\n",
              "      <td>Sportvan</td>\n",
              "      <td>1994</td>\n",
              "      <td>regular unleaded</td>\n",
              "      <td>200.0</td>\n",
              "      <td>8.0</td>\n",
              "      <td>AUTOMATIC</td>\n",
              "      <td>rear wheel drive</td>\n",
              "      <td>3.0</td>\n",
              "      <td>NaN</td>\n",
              "      <td>Midsize</td>\n",
              "      <td>Passenger Van</td>\n",
              "      <td>16</td>\n",
              "      <td>11</td>\n",
              "      <td>1385</td>\n",
              "      <td>2000</td>\n",
              "    </tr>\n",
              "    <tr>\n",
              "      <th>5978</th>\n",
              "      <td>Lexus</td>\n",
              "      <td>IS 300</td>\n",
              "      <td>2005</td>\n",
              "      <td>premium unleaded (required)</td>\n",
              "      <td>215.0</td>\n",
              "      <td>6.0</td>\n",
              "      <td>MANUAL</td>\n",
              "      <td>rear wheel drive</td>\n",
              "      <td>4.0</td>\n",
              "      <td>Luxury,Performance</td>\n",
              "      <td>Compact</td>\n",
              "      <td>Sedan</td>\n",
              "      <td>23</td>\n",
              "      <td>16</td>\n",
              "      <td>454</td>\n",
              "      <td>29735</td>\n",
              "    </tr>\n",
              "  </tbody>\n",
              "</table>\n",
              "</div>"
            ],
            "text/plain": [
              "            Make     Model  Year  ... city mpg  Popularity    MSRP\n",
              "942      Porsche       911  2016  ...       18        1715  126100\n",
              "10967     Toyota    Tundra  2016  ...       13        2031   34220\n",
              "4564        Ford     F-150  2017  ...       18        5657   45845\n",
              "9937   Chevrolet  Sportvan  1994  ...       11        1385    2000\n",
              "5978       Lexus    IS 300  2005  ...       16         454   29735\n",
              "\n",
              "[5 rows x 16 columns]"
            ]
          },
          "metadata": {},
          "execution_count": 2
        }
      ]
    },
    {
      "cell_type": "markdown",
      "metadata": {
        "id": "EY9iJe-O9u_4"
      },
      "source": [
        "Then we import the car dataset. And print 5 sample dataset values. At first, we imported our necessary libraries."
      ]
    },
    {
      "cell_type": "code",
      "metadata": {
        "colab": {
          "base_uri": "https://localhost:8080/"
        },
        "id": "ySPKIAioHyRv",
        "outputId": "6de35ce2-ea14-4cc3-9c7c-37c257df62c3"
      },
      "source": [
        "print(df.shape) # view the dataset shape\n",
        "\n",
        "print(df['Make'].value_counts()) # viewing Car companies with their cars number"
      ],
      "execution_count": null,
      "outputs": [
        {
          "output_type": "stream",
          "name": "stdout",
          "text": [
            "(11914, 16)\n",
            "Chevrolet        1123\n",
            "Ford              881\n",
            "Volkswagen        809\n",
            "Toyota            746\n",
            "Dodge             626\n",
            "Nissan            558\n",
            "GMC               515\n",
            "Honda             449\n",
            "Mazda             423\n",
            "Cadillac          397\n",
            "Mercedes-Benz     353\n",
            "Suzuki            351\n",
            "BMW               334\n",
            "Infiniti          330\n",
            "Audi              328\n",
            "Hyundai           303\n",
            "Volvo             281\n",
            "Subaru            256\n",
            "Acura             252\n",
            "Kia               231\n",
            "Mitsubishi        213\n",
            "Lexus             202\n",
            "Buick             196\n",
            "Chrysler          187\n",
            "Pontiac           186\n",
            "Lincoln           164\n",
            "Oldsmobile        150\n",
            "Land Rover        143\n",
            "Porsche           136\n",
            "Saab              111\n",
            "Aston Martin       93\n",
            "Plymouth           82\n",
            "Bentley            74\n",
            "Ferrari            69\n",
            "FIAT               62\n",
            "Scion              60\n",
            "Maserati           58\n",
            "Lamborghini        52\n",
            "Rolls-Royce        31\n",
            "Lotus              29\n",
            "Tesla              18\n",
            "HUMMER             17\n",
            "Maybach            16\n",
            "McLaren             5\n",
            "Alfa Romeo          5\n",
            "Bugatti             3\n",
            "Genesis             3\n",
            "Spyker              3\n",
            "Name: Make, dtype: int64\n"
          ]
        }
      ]
    },
    {
      "cell_type": "code",
      "metadata": {
        "colab": {
          "base_uri": "https://localhost:8080/",
          "height": 297
        },
        "id": "mJ6KU5t3-Ht8",
        "outputId": "5e90ffb1-e8cc-4db0-eca0-3a90104c6184"
      },
      "source": [
        "df.describe( )\n"
      ],
      "execution_count": null,
      "outputs": [
        {
          "output_type": "execute_result",
          "data": {
            "text/html": [
              "<div>\n",
              "<style scoped>\n",
              "    .dataframe tbody tr th:only-of-type {\n",
              "        vertical-align: middle;\n",
              "    }\n",
              "\n",
              "    .dataframe tbody tr th {\n",
              "        vertical-align: top;\n",
              "    }\n",
              "\n",
              "    .dataframe thead th {\n",
              "        text-align: right;\n",
              "    }\n",
              "</style>\n",
              "<table border=\"1\" class=\"dataframe\">\n",
              "  <thead>\n",
              "    <tr style=\"text-align: right;\">\n",
              "      <th></th>\n",
              "      <th>Year</th>\n",
              "      <th>Engine HP</th>\n",
              "      <th>Engine Cylinders</th>\n",
              "      <th>Number of Doors</th>\n",
              "      <th>highway MPG</th>\n",
              "      <th>city mpg</th>\n",
              "      <th>Popularity</th>\n",
              "      <th>MSRP</th>\n",
              "    </tr>\n",
              "  </thead>\n",
              "  <tbody>\n",
              "    <tr>\n",
              "      <th>count</th>\n",
              "      <td>11914.000000</td>\n",
              "      <td>11845.00000</td>\n",
              "      <td>11884.000000</td>\n",
              "      <td>11908.000000</td>\n",
              "      <td>11914.000000</td>\n",
              "      <td>11914.000000</td>\n",
              "      <td>11914.000000</td>\n",
              "      <td>1.191400e+04</td>\n",
              "    </tr>\n",
              "    <tr>\n",
              "      <th>mean</th>\n",
              "      <td>2010.384338</td>\n",
              "      <td>249.38607</td>\n",
              "      <td>5.628829</td>\n",
              "      <td>3.436093</td>\n",
              "      <td>26.637485</td>\n",
              "      <td>19.733255</td>\n",
              "      <td>1554.911197</td>\n",
              "      <td>4.059474e+04</td>\n",
              "    </tr>\n",
              "    <tr>\n",
              "      <th>std</th>\n",
              "      <td>7.579740</td>\n",
              "      <td>109.19187</td>\n",
              "      <td>1.780559</td>\n",
              "      <td>0.881315</td>\n",
              "      <td>8.863001</td>\n",
              "      <td>8.987798</td>\n",
              "      <td>1441.855347</td>\n",
              "      <td>6.010910e+04</td>\n",
              "    </tr>\n",
              "    <tr>\n",
              "      <th>min</th>\n",
              "      <td>1990.000000</td>\n",
              "      <td>55.00000</td>\n",
              "      <td>0.000000</td>\n",
              "      <td>2.000000</td>\n",
              "      <td>12.000000</td>\n",
              "      <td>7.000000</td>\n",
              "      <td>2.000000</td>\n",
              "      <td>2.000000e+03</td>\n",
              "    </tr>\n",
              "    <tr>\n",
              "      <th>25%</th>\n",
              "      <td>2007.000000</td>\n",
              "      <td>170.00000</td>\n",
              "      <td>4.000000</td>\n",
              "      <td>2.000000</td>\n",
              "      <td>22.000000</td>\n",
              "      <td>16.000000</td>\n",
              "      <td>549.000000</td>\n",
              "      <td>2.100000e+04</td>\n",
              "    </tr>\n",
              "    <tr>\n",
              "      <th>50%</th>\n",
              "      <td>2015.000000</td>\n",
              "      <td>227.00000</td>\n",
              "      <td>6.000000</td>\n",
              "      <td>4.000000</td>\n",
              "      <td>26.000000</td>\n",
              "      <td>18.000000</td>\n",
              "      <td>1385.000000</td>\n",
              "      <td>2.999500e+04</td>\n",
              "    </tr>\n",
              "    <tr>\n",
              "      <th>75%</th>\n",
              "      <td>2016.000000</td>\n",
              "      <td>300.00000</td>\n",
              "      <td>6.000000</td>\n",
              "      <td>4.000000</td>\n",
              "      <td>30.000000</td>\n",
              "      <td>22.000000</td>\n",
              "      <td>2009.000000</td>\n",
              "      <td>4.223125e+04</td>\n",
              "    </tr>\n",
              "    <tr>\n",
              "      <th>max</th>\n",
              "      <td>2017.000000</td>\n",
              "      <td>1001.00000</td>\n",
              "      <td>16.000000</td>\n",
              "      <td>4.000000</td>\n",
              "      <td>354.000000</td>\n",
              "      <td>137.000000</td>\n",
              "      <td>5657.000000</td>\n",
              "      <td>2.065902e+06</td>\n",
              "    </tr>\n",
              "  </tbody>\n",
              "</table>\n",
              "</div>"
            ],
            "text/plain": [
              "               Year    Engine HP  ...    Popularity          MSRP\n",
              "count  11914.000000  11845.00000  ...  11914.000000  1.191400e+04\n",
              "mean    2010.384338    249.38607  ...   1554.911197  4.059474e+04\n",
              "std        7.579740    109.19187  ...   1441.855347  6.010910e+04\n",
              "min     1990.000000     55.00000  ...      2.000000  2.000000e+03\n",
              "25%     2007.000000    170.00000  ...    549.000000  2.100000e+04\n",
              "50%     2015.000000    227.00000  ...   1385.000000  2.999500e+04\n",
              "75%     2016.000000    300.00000  ...   2009.000000  4.223125e+04\n",
              "max     2017.000000   1001.00000  ...   5657.000000  2.065902e+06\n",
              "\n",
              "[8 rows x 8 columns]"
            ]
          },
          "metadata": {},
          "execution_count": 5
        }
      ]
    },
    {
      "cell_type": "markdown",
      "metadata": {
        "id": "exER4nc_-qxK"
      },
      "source": [
        "###**VISUALISING THE DATA**"
      ]
    },
    {
      "cell_type": "code",
      "metadata": {
        "colab": {
          "base_uri": "https://localhost:8080/",
          "height": 464
        },
        "id": "pHX0AwD2-FXB",
        "outputId": "f1ee53de-e162-4301-da80-c5136b633df2"
      },
      "source": [
        "df.hist( )"
      ],
      "execution_count": null,
      "outputs": [
        {
          "output_type": "execute_result",
          "data": {
            "text/plain": [
              "array([[<matplotlib.axes._subplots.AxesSubplot object at 0x7fdf23ae7390>,\n",
              "        <matplotlib.axes._subplots.AxesSubplot object at 0x7fdf23a26f50>,\n",
              "        <matplotlib.axes._subplots.AxesSubplot object at 0x7fdf239ea5d0>],\n",
              "       [<matplotlib.axes._subplots.AxesSubplot object at 0x7fdf239a0c50>,\n",
              "        <matplotlib.axes._subplots.AxesSubplot object at 0x7fdf23962310>,\n",
              "        <matplotlib.axes._subplots.AxesSubplot object at 0x7fdf23916990>],\n",
              "       [<matplotlib.axes._subplots.AxesSubplot object at 0x7fdf238cdfd0>,\n",
              "        <matplotlib.axes._subplots.AxesSubplot object at 0x7fdf2388e690>,\n",
              "        <matplotlib.axes._subplots.AxesSubplot object at 0x7fdf2388e6d0>]],\n",
              "      dtype=object)"
            ]
          },
          "metadata": {},
          "execution_count": 4
        },
        {
          "output_type": "display_data",
          "data": {
            "image/png": "[encoded data removed]",
            "text/plain": [
              "<Figure size 432x288 with 9 Axes>"
            ]
          },
          "metadata": {
            "needs_background": "light"
          }
        }
      ]
    },
    {
      "cell_type": "markdown",
      "metadata": {
        "id": "cyZ6fhj5-AKe"
      },
      "source": [
        "Here we print the shape of the dataset and print the different car companies with their total cars."
      ]
    },
    {
      "cell_type": "code",
      "metadata": {
        "colab": {
          "base_uri": "https://localhost:8080/",
          "height": 828
        },
        "id": "oUSdfJqZH-m1",
        "outputId": "9b910dd0-7c71-4083-b9fe-019eb3f64c56"
      },
      "source": [
        "new_df = df[df['Make']=='Volkswagen'] # in this new dataset we only take 'Volkswagen' Cars\n",
        "print(new_df.shape) # Viewing the new dataset shape\n",
        "print(new_df.isnull().sum()) # Is there any Null or Empty cell presents\n",
        "new_df = new_df.dropna() # Deleting the rows which have Empty cells\n",
        "print(new_df.shape) # After deletion Vewing the shape\n",
        "print(new_df.isnull().sum()) #Is there any Null or Empty cell presents\n",
        "new_df.sample(2) # Checking the random dataset sample"
      ],
      "execution_count": null,
      "outputs": [
        {
          "output_type": "stream",
          "name": "stdout",
          "text": [
            "(809, 16)\n",
            "Make                   0\n",
            "Model                  0\n",
            "Year                   0\n",
            "Engine Fuel Type       0\n",
            "Engine HP              0\n",
            "Engine Cylinders       4\n",
            "Transmission Type      0\n",
            "Driven_Wheels          0\n",
            "Number of Doors        0\n",
            "Market Category      224\n",
            "Vehicle Size           0\n",
            "Vehicle Style          0\n",
            "highway MPG            0\n",
            "city mpg               0\n",
            "Popularity             0\n",
            "MSRP                   0\n",
            "dtype: int64\n",
            "(581, 16)\n",
            "Make                 0\n",
            "Model                0\n",
            "Year                 0\n",
            "Engine Fuel Type     0\n",
            "Engine HP            0\n",
            "Engine Cylinders     0\n",
            "Transmission Type    0\n",
            "Driven_Wheels        0\n",
            "Number of Doors      0\n",
            "Market Category      0\n",
            "Vehicle Size         0\n",
            "Vehicle Style        0\n",
            "highway MPG          0\n",
            "city mpg             0\n",
            "Popularity           0\n",
            "MSRP                 0\n",
            "dtype: int64\n"
          ]
        },
        {
          "output_type": "execute_result",
          "data": {
            "text/html": [
              "<div>\n",
              "<style scoped>\n",
              "    .dataframe tbody tr th:only-of-type {\n",
              "        vertical-align: middle;\n",
              "    }\n",
              "\n",
              "    .dataframe tbody tr th {\n",
              "        vertical-align: top;\n",
              "    }\n",
              "\n",
              "    .dataframe thead th {\n",
              "        text-align: right;\n",
              "    }\n",
              "</style>\n",
              "<table border=\"1\" class=\"dataframe\">\n",
              "  <thead>\n",
              "    <tr style=\"text-align: right;\">\n",
              "      <th></th>\n",
              "      <th>Make</th>\n",
              "      <th>Model</th>\n",
              "      <th>Year</th>\n",
              "      <th>Engine Fuel Type</th>\n",
              "      <th>Engine HP</th>\n",
              "      <th>Engine Cylinders</th>\n",
              "      <th>Transmission Type</th>\n",
              "      <th>Driven_Wheels</th>\n",
              "      <th>Number of Doors</th>\n",
              "      <th>Market Category</th>\n",
              "      <th>Vehicle Size</th>\n",
              "      <th>Vehicle Style</th>\n",
              "      <th>highway MPG</th>\n",
              "      <th>city mpg</th>\n",
              "      <th>Popularity</th>\n",
              "      <th>MSRP</th>\n",
              "    </tr>\n",
              "  </thead>\n",
              "  <tbody>\n",
              "    <tr>\n",
              "      <th>5365</th>\n",
              "      <td>Volkswagen</td>\n",
              "      <td>Golf GTI</td>\n",
              "      <td>2015</td>\n",
              "      <td>premium unleaded (recommended)</td>\n",
              "      <td>220.0</td>\n",
              "      <td>4.0</td>\n",
              "      <td>AUTOMATED_MANUAL</td>\n",
              "      <td>front wheel drive</td>\n",
              "      <td>4.0</td>\n",
              "      <td>Hatchback,Performance</td>\n",
              "      <td>Compact</td>\n",
              "      <td>4dr Hatchback</td>\n",
              "      <td>33</td>\n",
              "      <td>25</td>\n",
              "      <td>873</td>\n",
              "      <td>32640</td>\n",
              "    </tr>\n",
              "    <tr>\n",
              "      <th>5430</th>\n",
              "      <td>Volkswagen</td>\n",
              "      <td>Golf SportWagen</td>\n",
              "      <td>2015</td>\n",
              "      <td>diesel</td>\n",
              "      <td>150.0</td>\n",
              "      <td>4.0</td>\n",
              "      <td>MANUAL</td>\n",
              "      <td>front wheel drive</td>\n",
              "      <td>4.0</td>\n",
              "      <td>Diesel</td>\n",
              "      <td>Compact</td>\n",
              "      <td>Wagon</td>\n",
              "      <td>43</td>\n",
              "      <td>31</td>\n",
              "      <td>873</td>\n",
              "      <td>30345</td>\n",
              "    </tr>\n",
              "  </tbody>\n",
              "</table>\n",
              "</div>"
            ],
            "text/plain": [
              "            Make            Model  Year  ... city mpg  Popularity   MSRP\n",
              "5365  Volkswagen         Golf GTI  2015  ...       25         873  32640\n",
              "5430  Volkswagen  Golf SportWagen  2015  ...       31         873  30345\n",
              "\n",
              "[2 rows x 16 columns]"
            ]
          },
          "metadata": {},
          "execution_count": 4
        }
      ]
    },
    {
      "cell_type": "markdown",
      "metadata": {
        "id": "YEeaYq2f-VDk"
      },
      "source": [
        "Here we select only ‘Volkswagen’ cars from the large dataset. Because different types of cars have different brand value and higher or lower price. So we take only one car company for better prediction.\n",
        "Then we view the shape and check if any null cell present or not. We found there are many null cells present. We delete those rows which have null cells. It is very important when you make a dataset for fitting any data model. Then we cross check if any null cells present or not. No null cell found then we print 5 sample dataset values."
      ]
    },
    {
      "cell_type": "code",
      "metadata": {
        "colab": {
          "base_uri": "https://localhost:8080/",
          "height": 204
        },
        "id": "BbviYQIHIJcI",
        "outputId": "6af0819b-27b6-495b-8b54-e227780c480f"
      },
      "source": [
        "new_df = new_df[['Engine HP','MSRP']] # We only take the 'Engine HP' and 'MSRP' columns\n",
        "new_df.sample(5) # Checking the random dataset sample"
      ],
      "execution_count": null,
      "outputs": [
        {
          "output_type": "execute_result",
          "data": {
            "text/html": [
              "<div>\n",
              "<style scoped>\n",
              "    .dataframe tbody tr th:only-of-type {\n",
              "        vertical-align: middle;\n",
              "    }\n",
              "\n",
              "    .dataframe tbody tr th {\n",
              "        vertical-align: top;\n",
              "    }\n",
              "\n",
              "    .dataframe thead th {\n",
              "        text-align: right;\n",
              "    }\n",
              "</style>\n",
              "<table border=\"1\" class=\"dataframe\">\n",
              "  <thead>\n",
              "    <tr style=\"text-align: right;\">\n",
              "      <th></th>\n",
              "      <th>Engine HP</th>\n",
              "      <th>MSRP</th>\n",
              "    </tr>\n",
              "  </thead>\n",
              "  <tbody>\n",
              "    <tr>\n",
              "      <th>8003</th>\n",
              "      <td>170.0</td>\n",
              "      <td>18650</td>\n",
              "    </tr>\n",
              "    <tr>\n",
              "      <th>5388</th>\n",
              "      <td>220.0</td>\n",
              "      <td>31220</td>\n",
              "    </tr>\n",
              "    <tr>\n",
              "      <th>7995</th>\n",
              "      <td>150.0</td>\n",
              "      <td>18185</td>\n",
              "    </tr>\n",
              "    <tr>\n",
              "      <th>5374</th>\n",
              "      <td>220.0</td>\n",
              "      <td>27980</td>\n",
              "    </tr>\n",
              "    <tr>\n",
              "      <th>8001</th>\n",
              "      <td>170.0</td>\n",
              "      <td>17575</td>\n",
              "    </tr>\n",
              "  </tbody>\n",
              "</table>\n",
              "</div>"
            ],
            "text/plain": [
              "      Engine HP   MSRP\n",
              "8003      170.0  18650\n",
              "5388      220.0  31220\n",
              "7995      150.0  18185\n",
              "5374      220.0  27980\n",
              "8001      170.0  17575"
            ]
          },
          "metadata": {},
          "execution_count": 5
        }
      ]
    },
    {
      "cell_type": "markdown",
      "metadata": {
        "id": "44-XHFXP-xpT"
      },
      "source": [
        "Here we select only 2 specific (‘Engine HP’ and ‘MSRP’) columns from all columns. It is very important to select only those columns which could be helpful for prediction. It depends on your common sense to select those columns. Please select those columns that wouldn’t spoil your prediction. After select only 2 columns, we view our new dataset.\n",
        "\n",
        " "
      ]
    },
    {
      "cell_type": "code",
      "metadata": {
        "colab": {
          "base_uri": "https://localhost:8080/"
        },
        "id": "w8iYYnWzIUaB",
        "outputId": "b35f193a-8e5a-4a19-90fa-6f6f64bfdadc"
      },
      "source": [
        "X = np.array(new_df[['Engine HP']]) # Storing into X the 'Engine HP' as np.array\n",
        "y = np.array(new_df[['MSRP']]) # Storing into y the 'MSRP' as np.array\n",
        "print(X.shape) # Vewing the shape of X\n",
        "print(y.shape) # Vewing the shape of y"
      ],
      "execution_count": null,
      "outputs": [
        {
          "output_type": "stream",
          "name": "stdout",
          "text": [
            "(581, 1)\n",
            "(581, 1)\n"
          ]
        }
      ]
    },
    {
      "cell_type": "markdown",
      "metadata": {
        "id": "YL8F-RJ1-5h4"
      },
      "source": [
        "Here we put the ‘Engine HP’ column as a numpy array into ‘X’ variable. And ‘MSRP’ column as a numpy array into ‘y’ variable. Then check the shape of the array."
      ]
    },
    {
      "cell_type": "code",
      "metadata": {
        "colab": {
          "base_uri": "https://localhost:8080/",
          "height": 295
        },
        "id": "W29z-7VJIZ3I",
        "outputId": "2e803a6c-ab8d-4c8a-8826-3e1846ead9ea"
      },
      "source": [
        "plt.scatter(X,y,color=\"violet\") # Plot a graph X vs y\n",
        "plt.title('HP vs MSRP')\n",
        "plt.xlabel('HP')\n",
        "plt.ylabel('MSRP')\n",
        "plt.show()"
      ],
      "execution_count": null,
      "outputs": [
        {
          "output_type": "display_data",
          "data": {
            "image/png": "[encoded data removed]",
            "text/plain": [
              "<Figure size 432x288 with 1 Axes>"
            ]
          },
          "metadata": {
            "needs_background": "light"
          }
        }
      ]
    },
    {
      "cell_type": "markdown",
      "metadata": {
        "id": "qJHon-qH_BFB"
      },
      "source": [
        "Here we plot a scatter plot graph between ‘MSRP’ and ‘HP’. After viewing this graph we ensured that we can perform a linear regression for prediction."
      ]
    },
    {
      "cell_type": "code",
      "metadata": {
        "colab": {
          "base_uri": "https://localhost:8080/"
        },
        "id": "vyKFJ7taIk2w",
        "outputId": "3af76336-21a1-4b83-bc6d-5b777473e87b"
      },
      "source": [
        "X_train,X_test,y_train,y_test = train_test_split(X,y,test_size = 0.25,random_state=15) # Spliting into train & test dataset\n",
        "regressor = LinearRegression() # Creating a regressior\n",
        "regressor.fit(X_train,y_train) # Fitting the dataset into the model"
      ],
      "execution_count": null,
      "outputs": [
        {
          "output_type": "execute_result",
          "data": {
            "text/plain": [
              "LinearRegression(copy_X=True, fit_intercept=True, n_jobs=None, normalize=False)"
            ]
          },
          "metadata": {},
          "execution_count": 9
        }
      ]
    },
    {
      "cell_type": "markdown",
      "metadata": {
        "id": "lwi1QDiN_IQU"
      },
      "source": [
        "Here we split our ‘X’ and ‘y’ dataset into ‘X_train’, ‘X_test’ and ‘y_train’, ‘y_test’. Here we take 25% data as test dataset and remaining as train dataset. We take the random_state value as 15 for our better prediction. We create regressor. And we fit the X_train and y_train into the regressor model.\n",
        "\n"
      ]
    },
    {
      "cell_type": "code",
      "metadata": {
        "colab": {
          "base_uri": "https://localhost:8080/",
          "height": 295
        },
        "id": "m5wwXAqlIqCL",
        "outputId": "59ad45dd-3458-47d8-a279-55582e4565f1"
      },
      "source": [
        "plt.scatter(X_test,y_test,color=\"violet\") # Plot a graph with X_test vs y_test\n",
        "plt.plot(X_train,regressor.predict(X_train),color=\"yellow\",linewidth=3) # Regressior line showing\n",
        "plt.title('Regression(Test Set)')\n",
        "plt.xlabel('HP')\n",
        "plt.ylabel('MSRP')\n",
        "plt.show()"
      ],
      "execution_count": null,
      "outputs": [
        {
          "output_type": "display_data",
          "data": {
            "image/png": "[encoded data removed]",
            "text/plain": [
              "<Figure size 432x288 with 1 Axes>"
            ]
          },
          "metadata": {
            "needs_background": "light"
          }
        }
      ]
    },
    {
      "cell_type": "markdown",
      "metadata": {
        "id": "zsvhVtjJ_Pju"
      },
      "source": [
        "Here we plot a scatter plot graph between X_test and y_test datasets and we draw a regression line."
      ]
    },
    {
      "cell_type": "code",
      "metadata": {
        "colab": {
          "base_uri": "https://localhost:8080/",
          "height": 295
        },
        "id": "KyJaGVl0I077",
        "outputId": "98ac609e-8f53-4db7-90e4-188a3c19e1f5"
      },
      "source": [
        "plt.scatter(X_train,y_train,color=\"green\")  # Plot a graph with X_train vs y_train\n",
        "plt.plot(X_train,regressor.predict(X_train),color=\"black\",linewidth=4) # Regressior line showing\n",
        "plt.title('Regression(training Set)')\n",
        "plt.xlabel('HP')\n",
        "plt.ylabel('MSRP')\n",
        "plt.show()"
      ],
      "execution_count": null,
      "outputs": [
        {
          "output_type": "display_data",
          "data": {
            "image/png": "[encoded data removed]",
            "text/plain": [
              "<Figure size 432x288 with 1 Axes>"
            ]
          },
          "metadata": {
            "needs_background": "light"
          }
        }
      ]
    },
    {
      "cell_type": "markdown",
      "metadata": {
        "id": "U6Etj_0W_ZoL"
      },
      "source": [
        "Here we plot the final X_train vs y_train scatterplot graph with a best-fit regression line. Here we can clearly understand the regression line."
      ]
    },
    {
      "cell_type": "code",
      "metadata": {
        "colab": {
          "base_uri": "https://localhost:8080/"
        },
        "id": "T_BSuxpwJQtP",
        "outputId": "b62e3d0b-92ef-4ca7-93ac-25325fe02ffa"
      },
      "source": [
        "y_pred = regressor.predict(X_test)\n",
        "print('R2 score: %.2f' % r2_score(y_test,y_pred)) # Printing R2 Score\n",
        "print('Mean squared Error :',mean_squared_error(y_test,y_pred)) # Printing the mean error"
      ],
      "execution_count": null,
      "outputs": [
        {
          "output_type": "stream",
          "name": "stdout",
          "text": [
            "R2 score: 0.73\n",
            "Mean squared Error : 55796476.51179164\n"
          ]
        }
      ]
    },
    {
      "cell_type": "code",
      "metadata": {
        "colab": {
          "base_uri": "https://localhost:8080/"
        },
        "id": "U1YhPJHfJU-h",
        "outputId": "acb22d64-7cdc-48fb-d520-a1063f4b872a"
      },
      "source": [
        "def car_price(hp): # A function to predict the price according to Horsepower\n",
        "    result = regressor.predict(np.array(hp).reshape(1, -1))\n",
        "    return(result[0,0])\n",
        "\n",
        "car_hp = int(input('Enter Volkswagen cars Horse Power : '))\n",
        "print('This Volkswagen Prce will be : ',int(car_price(car_hp))*69,'₹')"
      ],
      "execution_count": null,
      "outputs": [
        {
          "output_type": "stream",
          "name": "stdout",
          "text": [
            "Enter Volkswagen cars Horse Power : 283\n",
            "This Volkswagen Prce will be :  2973003 ₹\n"
          ]
        }
      ]
    },
    {
      "cell_type": "markdown",
      "metadata": {
        "id": "BjTrha2m_igb"
      },
      "source": [
        "Here we create a function with the help of our trained regressor model. And we get our desired output.\n",
        "\n",
        " "
      ]
    }
  ]
}